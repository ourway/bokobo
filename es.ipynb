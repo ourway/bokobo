{
 "cells": [
  {
   "cell_type": "code",
   "execution_count": 4,
   "metadata": {
    "collapsed": true
   },
   "outputs": [],
   "source": [
    "from elasticsearch import Elasticsearch\n",
    "\n",
    "es = Elasticsearch('http://localhost:9200')\n",
    "\n"
   ]
  },
  {
   "cell_type": "code",
   "execution_count": 5,
   "metadata": {},
   "outputs": [
    {
     "data": {
      "text/plain": [
       "{'_index': 'online_library',\n '_type': 'person',\n '_id': '4',\n '_version': 1,\n '_shards': {'total': 2, 'successful': 1, 'failed': 0},\n 'created': True}"
      ]
     },
     "execution_count": 5,
     "metadata": {},
     "output_type": "execute_result"
    }
   ],
   "source": [
    "doc1 = {'name':'nasim','last_name':'seifi','age':34}\n",
    "doc2 = {'name':'masoud','last_name':'mazarei','age':33}\n",
    "doc3 = {'name':'ali','last_name':'kashefi','age':30}\n",
    "doc4 = {'name':'hamid','last_name':'kazemi','age':32}\n",
    "\n",
    "es.index(index='online_library',doc_type='person',id=1,body=doc1)\n",
    "es.index(index='online_library',doc_type='person',id=2,body=doc2)\n",
    "es.index(index='online_library',doc_type='person',id=3,body=doc3)\n",
    "es.index(index='online_library',doc_type='person',id=4,body=doc4)"
   ]
  },
  {
   "cell_type": "code",
   "execution_count": 8,
   "metadata": {},
   "outputs": [
    {
     "data": {
      "text/plain": [
       "{'_index': 'online_library',\n '_type': 'person',\n '_id': '3',\n '_version': 1,\n 'found': True,\n '_source': {'name': 'ali', 'last_name': 'kashefi', 'age': 30}}"
      ]
     },
     "execution_count": 8,
     "metadata": {},
     "output_type": "execute_result"
    }
   ],
   "source": [
    "es.get(index='online_library',doc_type='person',id=3)"
   ]
  },
  {
   "cell_type": "code",
   "execution_count": 13,
   "metadata": {},
   "outputs": [
    {
     "data": {
      "text/plain": [
       "{'took': 3,\n 'timed_out': False,\n '_shards': {'total': 5, 'successful': 5, 'failed': 0},\n 'hits': {'total': 1,\n  'max_score': 0.30685282,\n  'hits': [{'_index': 'online_library',\n    '_type': 'person',\n    '_id': '3',\n    '_score': 0.30685282,\n    '_source': {'name': 'ali', 'last_name': 'kashefi', 'age': 30}}]}}"
      ]
     },
     "execution_count": 13,
     "metadata": {},
     "output_type": "execute_result"
    }
   ],
   "source": [
    "es.search(index='online_library', body={'from': 0, 'size': 4, 'query': {\n",
    "    'bool': {'should': {'match': {'name': 'ali'}}, 'must_not': {'match': {'age': 33}}}}})\n",
    "\n"
   ]
  },
  {
   "cell_type": "code",
   "execution_count": 15,
   "metadata": {},
   "outputs": [
    {
     "ename": "SyntaxError",
     "evalue": "invalid syntax (<ipython-input-15-9d1187004ab7>, line 1)",
     "traceback": [
      "\u001b[0;36m  File \u001b[0;32m\"<ipython-input-15-9d1187004ab7>\"\u001b[0;36m, line \u001b[0;32m1\u001b[0m\n\u001b[0;31m    es.search(index='online_library', body={'from': 0, 'size': 4, 'query': { 'multi_match' : { 'query' : 'nasim', 'fields' : ['name', 'age'] } }}) }\u001b[0m\n\u001b[0m                                                                                                                                                   ^\u001b[0m\n\u001b[0;31mSyntaxError\u001b[0m\u001b[0;31m:\u001b[0m invalid syntax\n"
     ],
     "output_type": "error"
    }
   ],
   "source": [
    "es.search(index='online_library', body={'from': 0, 'size': 4, 'query': { 'multi_match' : { 'query' : 'nasim', 'fields' : ['name', 'age'], \"fuzziness\": \"AUTO\"  } }}) }"
   ]
  },
  {
   "cell_type": "code",
   "execution_count": null,
   "metadata": {},
   "outputs": [],
   "source": [
    "\n",
    "\n",
    "\n",
    "\n",
    "\n",
    "\n",
    "\n",
    "\n"
   ]
  }
 ],
 "metadata": {
  "kernelspec": {
   "display_name": "Python 2",
   "language": "python",
   "name": "python2"
  },
  "language_info": {
   "codemirror_mode": {
    "name": "ipython",
    "version": 2
   },
   "file_extension": ".py",
   "mimetype": "text/x-python",
   "name": "python",
   "nbconvert_exporter": "python",
   "pygments_lexer": "ipython2",
   "version": "2.7.6"
  }
 },
 "nbformat": 4,
 "nbformat_minor": 0
}

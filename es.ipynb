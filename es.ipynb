{
 "cells": [
  {
   "cell_type": "code",
   "execution_count": 1,
   "metadata": {},
   "outputs": [],
   "source": [
    "from elasticsearch import Elasticsearch\n",
    "\n",
    "es = Elasticsearch('http://localhost:9200')\n",
    "\n"
   ]
  },
  {
   "cell_type": "code",
   "execution_count": 2,
   "metadata": {},
   "outputs": [
    {
     "data": {
      "text/plain": [
       "{'_index': 'online_library',\n",
       " '_type': 'person',\n",
       " '_id': '4',\n",
       " '_version': 5,\n",
       " '_shards': {'total': 2, 'successful': 1, 'failed': 0},\n",
       " 'created': False}"
      ]
     },
     "execution_count": 2,
     "metadata": {},
     "output_type": "execute_result"
    }
   ],
   "source": [
    "doc1 = {'name':'nasim','last_name':'seifi','age':34}\n",
    "doc2 = {'name':'masoud','last_name':'mazarei','age':33}\n",
    "doc3 = {'name':'ali','last_name':'kashefi','age':30}\n",
    "doc4 = {'name':'hamid','last_name':'kazemi','age':32}\n",
    "\n",
    "es.index(index='online_library',doc_type='person',id=1,body=doc1)\n",
    "es.index(index='online_library',doc_type='person',id=2,body=doc2)\n",
    "es.index(index='online_library',doc_type='person',id=3,body=doc3)\n",
    "es.index(index='online_library',doc_type='person',id=4,body=doc4)"
   ]
  },
  {
   "cell_type": "code",
   "execution_count": 11,
   "metadata": {},
   "outputs": [
    {
     "data": {
      "text/plain": [
       "{'title': 'my second book',\n",
       " 'genre': ['Romance', 'Science'],\n",
       " 'persons': ['seifi nasim', 'seifi nasim'],\n",
       " 'rate': '7.9',\n",
       " 'pub_year': '2019',\n",
       " 'press': 'seifi nasim',\n",
       " 'writer': 'seifi nasim',\n",
       " 'language': 'farsi',\n",
       " 'type': 'DVD',\n",
       " 'tags': None,\n",
       " 'book_id': '74116667-ce9d-4ca9-b723-28a00ee8da57',\n",
       " 'description': 'its a fantasticdescription ever I made baby'}"
      ]
     },
     "execution_count": 11,
     "metadata": {},
     "output_type": "execute_result"
    }
   ],
   "source": [
    "es.get_source(index='online_library',doc_type='book',id='74116667-ce9d-4ca9-b723-28a00ee8da57')"
   ]
  },
  {
   "cell_type": "code",
   "execution_count": 5,
   "metadata": {},
   "outputs": [
    {
     "data": {
      "text/plain": [
       "{'took': 6,\n",
       " 'timed_out': False,\n",
       " '_shards': {'total': 5, 'successful': 5, 'failed': 0},\n",
       " 'hits': {'total': 1,\n",
       "  'max_score': 1.4054651,\n",
       "  'hits': [{'_index': 'online_library',\n",
       "    '_type': 'person',\n",
       "    '_id': '3',\n",
       "    '_score': 1.4054651,\n",
       "    '_source': {'name': 'ali', 'last_name': 'kashefi', 'age': 30}}]}}"
      ]
     },
     "execution_count": 5,
     "metadata": {},
     "output_type": "execute_result"
    }
   ],
   "source": [
    "es.search(index='online_library', body={'from': 0, 'size': 4, 'query': {\n",
    "    'bool': {'should': {'match': {'name': 'ali'}}, 'must_not': {'match': {'age': 33}}}}})\n",
    "\n"
   ]
  },
  {
   "cell_type": "code",
   "execution_count": 24,
   "metadata": {},
   "outputs": [
    {
     "data": {
      "text/plain": [
       "{'took': 4,\n",
       " 'timed_out': False,\n",
       " '_shards': {'total': 5, 'successful': 5, 'failed': 0},\n",
       " 'hits': {'total': 1,\n",
       "  'max_score': 0.15342641,\n",
       "  'hits': [{'_index': 'online_library',\n",
       "    '_type': 'book',\n",
       "    '_id': '74116667-ce9d-4ca9-b723-28a00ee8da57',\n",
       "    '_score': 0.15342641,\n",
       "    '_source': {'title': 'my second book',\n",
       "     'genre': ['Romance', 'Science'],\n",
       "     'persons': ['seifi nasim', 'seifi nasim'],\n",
       "     'rate': '7.9',\n",
       "     'pub_year': '2019',\n",
       "     'press': 'seifi nasim',\n",
       "     'writer': 'seifi nasim',\n",
       "     'language': 'farsi',\n",
       "     'type': 'DVD',\n",
       "     'tags': None,\n",
       "     'book_id': '74116667-ce9d-4ca9-b723-28a00ee8da57',\n",
       "     'description': 'its a fantasticdescription ever I made baby'}}]}}"
      ]
     },
     "execution_count": 24,
     "metadata": {},
     "output_type": "execute_result"
    }
   ],
   "source": [
    "es.search(index='online_library', body={'from': 0, 'size': 4, 'query': { 'multi_match' : { 'query' : 'second', 'fields' : ['title^5','persons^5'], 'fuzziness': 'AUTO'  } }})"
   ]
  },
  {
   "cell_type": "code",
   "execution_count": 32,
   "metadata": {},
   "outputs": [
    {
     "data": {
      "text/plain": [
       "{'took': 2,\n",
       " 'timed_out': False,\n",
       " '_shards': {'total': 5, 'successful': 5, 'failed': 0},\n",
       " 'hits': {'total': 1,\n",
       "  'max_score': 1.0,\n",
       "  'hits': [{'_index': 'online_library',\n",
       "    '_type': 'book',\n",
       "    '_id': '74116667-ce9d-4ca9-b723-28a00ee8da57',\n",
       "    '_score': 1.0,\n",
       "    '_source': {'title': 'my second book',\n",
       "     'genre': ['Romance', 'Science'],\n",
       "     'persons': ['seifi nasim', 'seifi nasim'],\n",
       "     'rate': '7.9',\n",
       "     'pub_year': '2019',\n",
       "     'press': 'seifi nasim',\n",
       "     'writer': 'seifi nasim',\n",
       "     'language': 'farsi',\n",
       "     'type': 'DVD',\n",
       "     'tags': None,\n",
       "     'book_id': '74116667-ce9d-4ca9-b723-28a00ee8da57',\n",
       "     'description': 'its a fantasticdescription ever I made baby'}}]}}"
      ]
     },
     "execution_count": 32,
     "metadata": {},
     "output_type": "execute_result"
    }
   ],
   "source": [
    " es.search(index='online_library', body={'from': 0, 'size': 4, 'query': {'wildcard': {\n",
    "        'title': {\n",
    "            'value': 'my',\n",
    "            'boost': 1.0,\n",
    "            'rewrite': 'constant_score'\n",
    "        }}}})"
   ]
  },
  {
   "cell_type": "code",
   "execution_count": 54,
   "metadata": {},
   "outputs": [
    {
     "data": {
      "text/plain": [
       "{'took': 13,\n",
       " 'timed_out': False,\n",
       " '_shards': {'total': 5, 'successful': 5, 'failed': 0},\n",
       " 'hits': {'total': 7,\n",
       "  'max_score': 1.0,\n",
       "  'hits': [{'_index': 'online_library',\n",
       "    '_type': 'book',\n",
       "    '_id': 'b2f675ec-4645-4125-97b8-90e755bdb70f',\n",
       "    '_score': 1.0,\n",
       "    '_source': {'title': 'آلمانی ر سفر',\n",
       "     'genre': ['Romance', 'Science'],\n",
       "     'persons': ['seifi nasim', 'seifi nasim'],\n",
       "     'rate': '7.9',\n",
       "     'pub_year': '2019',\n",
       "     'press': 'seifi nasim',\n",
       "     'writer': 'seifi nasim',\n",
       "     'language': 'آلمانی',\n",
       "     'type': 'DVD',\n",
       "     'tags': None,\n",
       "     'book_id': 'b2f675ec-4645-4125-97b8-90e755bdb70f',\n",
       "     'description': 'یمردی با ایده های آلمان'}},\n",
       "   {'_index': 'online_library',\n",
       "    '_type': 'book',\n",
       "    '_id': '4741b7e1-817f-4ad5-bd46-37ce561bbb75',\n",
       "    '_score': 1.0,\n",
       "    '_source': {'title': 'آلمانف ',\n",
       "     'genre': ['Romance', 'Science'],\n",
       "     'persons': ['seifi nasim', 'seifi nasim'],\n",
       "     'rate': '7.9',\n",
       "     'pub_year': '2019',\n",
       "     'press': 'seifi nasim',\n",
       "     'writer': 'seifi nasim',\n",
       "     'language': 'آلمانی',\n",
       "     'type': 'DVD',\n",
       "     'tags': None,\n",
       "     'book_id': '4741b7e1-817f-4ad5-bd46-37ce561bbb75',\n",
       "     'description': 'یمردی با ایده های آلمان'}},\n",
       "   {'_index': 'online_library',\n",
       "    '_type': 'book',\n",
       "    '_id': 'a7374574-4fad-4014-8307-04f13442377e',\n",
       "    '_score': 0.3,\n",
       "    '_source': {'title': 'جزیره پنگوین ها ',\n",
       "     'genre': ['Romance', 'Science'],\n",
       "     'persons': ['seifi nasim', 'seifi nasim'],\n",
       "     'rate': '7.9',\n",
       "     'pub_year': '2019',\n",
       "     'press': 'seifi nasim',\n",
       "     'writer': 'seifi nasim',\n",
       "     'language': 'آلمانی',\n",
       "     'type': 'DVD',\n",
       "     'tags': None,\n",
       "     'book_id': 'a7374574-4fad-4014-8307-04f13442377e',\n",
       "     'description': 'یمردی با ایده های آلمان'}},\n",
       "   {'_index': 'online_library',\n",
       "    '_type': 'book',\n",
       "    '_id': 'fe5d5694-4a9b-4546-be1c-bdcf2902d962',\n",
       "    '_score': 0.3,\n",
       "    '_source': {'title': 'جزیره پنگوین ها ',\n",
       "     'genre': ['Romance', 'Science'],\n",
       "     'persons': ['seifi nasim', 'seifi nasim'],\n",
       "     'rate': '7.9',\n",
       "     'pub_year': '2019',\n",
       "     'press': 'seifi nasim',\n",
       "     'writer': 'seifi nasim',\n",
       "     'language': 'آلمانی',\n",
       "     'type': 'DVD',\n",
       "     'tags': None,\n",
       "     'book_id': 'fe5d5694-4a9b-4546-be1c-bdcf2902d962',\n",
       "     'description': ' ه های آلمان'}},\n",
       "   {'_index': 'online_library',\n",
       "    '_type': 'book',\n",
       "    '_id': 'de57b64f-ec01-4f8a-9d10-1c39c9cb6c15',\n",
       "    '_score': 0.3,\n",
       "    '_source': {'title': 'جزیره پنگوین ها ',\n",
       "     'genre': ['Romance', 'Science'],\n",
       "     'persons': ['seifi nasim', 'seifi nasim'],\n",
       "     'rate': '7.9',\n",
       "     'pub_year': '2019',\n",
       "     'press': 'seifi nasim',\n",
       "     'writer': 'seifi nasim',\n",
       "     'language': 'آلمانی',\n",
       "     'type': 'DVD',\n",
       "     'tags': None,\n",
       "     'book_id': 'de57b64f-ec01-4f8a-9d10-1c39c9cb6c15',\n",
       "     'description': ' ه های آلمان'}}]}}"
      ]
     },
     "execution_count": 54,
     "metadata": {},
     "output_type": "execute_result"
    }
   ],
   "source": [
    " es.search(index='online_library', body={'from': 2, 'size': 10, 'query': {'query_string': {\n",
    "        'query': '*آلم*','fields' : ['title^10','persons^4','genre^4','description^3'],'rewrite': 'constant_score'}}})"
   ]
  },
  {
   "cell_type": "code",
   "execution_count": null,
   "metadata": {},
   "outputs": [],
   "source": []
  }
 ],
 "metadata": {
  "kernelspec": {
   "display_name": "Python 3",
   "language": "python",
   "name": "python3"
  },
  "language_info": {
   "codemirror_mode": {
    "name": "ipython",
    "version": 3
   },
   "file_extension": ".py",
   "mimetype": "text/x-python",
   "name": "python",
   "nbconvert_exporter": "python",
   "pygments_lexer": "ipython3",
   "version": "3.6.7"
  }
 },
 "nbformat": 4,
 "nbformat_minor": 1
}
